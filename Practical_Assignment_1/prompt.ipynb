{
 "cells": [
  {
   "cell_type": "markdown",
   "metadata": {
    "id": "CcUT6Fon_qRE"
   },
   "source": [
    "### Required Assignment 5.1: Will the Customer Accept the Coupon?\n",
    "\n",
    "**Context**\n",
    "\n",
    "Imagine driving through town and a coupon is delivered to your cell phone for a restaurant near where you are driving. Would you accept that coupon and take a short detour to the restaurant? Would you accept the coupon but use it on a subsequent trip? Would you ignore the coupon entirely? What if the coupon was for a bar instead of a restaurant? What about a coffee house? Would you accept a bar coupon with a minor passenger in the car? What about if it was just you and your partner in the car? Would weather impact the rate of acceptance? What about the time of day?\n",
    "\n",
    "Obviously, proximity to the business is a factor on whether the coupon is delivered to the driver or not, but what are the factors that determine whether a driver accepts the coupon once it is delivered to them? How would you determine whether a driver is likely to accept a coupon?\n",
    "\n",
    "**Overview**\n",
    "\n",
    "The goal of this project is to use what you know about visualizations and probability distributions to distinguish between customers who accepted a driving coupon versus those that did not.\n",
    "\n",
    "**Data**\n",
    "\n",
    "This data comes to us from the UCI Machine Learning repository and was collected via a survey on Amazon Mechanical Turk. The survey describes different driving scenarios including the destination, current time, weather, passenger, etc., and then ask the person whether he will accept the coupon if he is the driver. Answers that the user will drive there ‘right away’ or ‘later before the coupon expires’ are labeled as ‘Y = 1’ and answers ‘no, I do not want the coupon’ are labeled as ‘Y = 0’.  There are five different types of coupons -- less expensive restaurants (under \\$20), coffee houses, carry out & take away, bar, and more expensive restaurants (\\$20 - $50)."
   ]
  },
  {
   "cell_type": "markdown",
   "metadata": {
    "id": "1wORvMBJ_qRF"
   },
   "source": [
    "**Deliverables**\n",
    "\n",
    "Your final product should be a brief report that highlights the differences between customers who did and did not accept the coupons.  To explore the data you will utilize your knowledge of plotting, statistical summaries, and visualization using Python. You will publish your findings in a public facing github repository as your first portfolio piece.\n",
    "\n",
    "\n",
    "\n"
   ]
  },
  {
   "cell_type": "markdown",
   "metadata": {
    "id": "pG6_Ym6q_qRG"
   },
   "source": [
    "### Data Description\n",
    "Keep in mind that these values mentioned below are average values.\n",
    "\n",
    "The attributes of this data set include:\n",
    "1. User attributes\n",
    "    -  Gender: male, female\n",
    "    -  Age: below 21, 21 to 25, 26 to 30, etc.\n",
    "    -  Marital Status: single, married partner, unmarried partner, or widowed\n",
    "    -  Number of children: 0, 1, or more than 1\n",
    "    -  Education: high school, bachelors degree, associates degree, or graduate degree\n",
    "    -  Occupation: architecture & engineering, business & financial, etc.\n",
    "    -  Annual income: less than \\\\$12500, \\\\$12500 - \\\\$24999, \\\\$25000 - \\\\$37499, etc.\n",
    "    -  Number of times that he/she goes to a bar: 0, less than 1, 1 to 3, 4 to 8 or greater than 8\n",
    "    -  Number of times that he/she buys takeaway food: 0, less than 1, 1 to 3, 4 to 8 or greater\n",
    "    than 8\n",
    "    -  Number of times that he/she goes to a coffee house: 0, less than 1, 1 to 3, 4 to 8 or\n",
    "    greater than 8\n",
    "    -  Number of times that he/she eats at a restaurant with average expense less than \\\\$20 per\n",
    "    person: 0, less than 1, 1 to 3, 4 to 8 or greater than 8\n",
    "    -  Number of times that he/she goes to a bar: 0, less than 1, 1 to 3, 4 to 8 or greater than 8\n",
    "    \n",
    "\n",
    "2. Contextual attributes\n",
    "    - Driving destination: home, work, or no urgent destination\n",
    "    - Location of user, coupon and destination: we provide a map to show the geographical\n",
    "    location of the user, destination, and the venue, and we mark the distance between each\n",
    "    two places with time of driving. The user can see whether the venue is in the same\n",
    "    direction as the destination.\n",
    "    - Weather: sunny, rainy, or snowy\n",
    "    - Temperature: 30F, 55F, or 80F\n",
    "    - Time: 10AM, 2PM, or 6PM\n",
    "    - Passenger: alone, partner, kid(s), or friend(s)\n",
    "\n",
    "\n",
    "3. Coupon attributes\n",
    "    - time before it expires: 2 hours or one day"
   ]
  },
  {
   "cell_type": "code",
   "execution_count": 3,
   "metadata": {
    "id": "dzNoP3o__qRG"
   },
   "outputs": [],
   "source": [
    "import matplotlib.pyplot as plt\n",
    "import seaborn as sns\n",
    "import pandas as pd\n",
    "import numpy as np"
   ]
  },
  {
   "cell_type": "markdown",
   "metadata": {
    "id": "Ct8pI1uE_qRG"
   },
   "source": [
    "### Problems\n",
    "\n",
    "Use the prompts below to get started with your data analysis.  \n",
    "\n",
    "1. Read in the `coupons.csv` file.\n",
    "\n",
    "\n"
   ]
  },
  {
   "cell_type": "code",
   "execution_count": 4,
   "metadata": {
    "id": "X0vbffYg_qRH"
   },
   "outputs": [],
   "source": [
    "data = pd.read_csv('data/coupons.csv')"
   ]
  },
  {
   "cell_type": "code",
   "execution_count": 5,
   "metadata": {
    "id": "TXofQ_DF_qRH",
    "outputId": "2fc96a2c-1112-4b54-f24f-dbb9bc88abfb"
   },
   "outputs": [
    {
     "data": {
      "text/html": [
       "<div>\n",
       "<style scoped>\n",
       "    .dataframe tbody tr th:only-of-type {\n",
       "        vertical-align: middle;\n",
       "    }\n",
       "\n",
       "    .dataframe tbody tr th {\n",
       "        vertical-align: top;\n",
       "    }\n",
       "\n",
       "    .dataframe thead th {\n",
       "        text-align: right;\n",
       "    }\n",
       "</style>\n",
       "<table border=\"1\" class=\"dataframe\">\n",
       "  <thead>\n",
       "    <tr style=\"text-align: right;\">\n",
       "      <th></th>\n",
       "      <th>destination</th>\n",
       "      <th>passanger</th>\n",
       "      <th>weather</th>\n",
       "      <th>temperature</th>\n",
       "      <th>time</th>\n",
       "      <th>coupon</th>\n",
       "      <th>expiration</th>\n",
       "      <th>gender</th>\n",
       "      <th>age</th>\n",
       "      <th>maritalStatus</th>\n",
       "      <th>...</th>\n",
       "      <th>CoffeeHouse</th>\n",
       "      <th>CarryAway</th>\n",
       "      <th>RestaurantLessThan20</th>\n",
       "      <th>Restaurant20To50</th>\n",
       "      <th>toCoupon_GEQ5min</th>\n",
       "      <th>toCoupon_GEQ15min</th>\n",
       "      <th>toCoupon_GEQ25min</th>\n",
       "      <th>direction_same</th>\n",
       "      <th>direction_opp</th>\n",
       "      <th>Y</th>\n",
       "    </tr>\n",
       "  </thead>\n",
       "  <tbody>\n",
       "    <tr>\n",
       "      <th>0</th>\n",
       "      <td>No Urgent Place</td>\n",
       "      <td>Alone</td>\n",
       "      <td>Sunny</td>\n",
       "      <td>55</td>\n",
       "      <td>2PM</td>\n",
       "      <td>Restaurant(&lt;20)</td>\n",
       "      <td>1d</td>\n",
       "      <td>Female</td>\n",
       "      <td>21</td>\n",
       "      <td>Unmarried partner</td>\n",
       "      <td>...</td>\n",
       "      <td>never</td>\n",
       "      <td>NaN</td>\n",
       "      <td>4~8</td>\n",
       "      <td>1~3</td>\n",
       "      <td>1</td>\n",
       "      <td>0</td>\n",
       "      <td>0</td>\n",
       "      <td>0</td>\n",
       "      <td>1</td>\n",
       "      <td>1</td>\n",
       "    </tr>\n",
       "    <tr>\n",
       "      <th>1</th>\n",
       "      <td>No Urgent Place</td>\n",
       "      <td>Friend(s)</td>\n",
       "      <td>Sunny</td>\n",
       "      <td>80</td>\n",
       "      <td>10AM</td>\n",
       "      <td>Coffee House</td>\n",
       "      <td>2h</td>\n",
       "      <td>Female</td>\n",
       "      <td>21</td>\n",
       "      <td>Unmarried partner</td>\n",
       "      <td>...</td>\n",
       "      <td>never</td>\n",
       "      <td>NaN</td>\n",
       "      <td>4~8</td>\n",
       "      <td>1~3</td>\n",
       "      <td>1</td>\n",
       "      <td>0</td>\n",
       "      <td>0</td>\n",
       "      <td>0</td>\n",
       "      <td>1</td>\n",
       "      <td>0</td>\n",
       "    </tr>\n",
       "    <tr>\n",
       "      <th>2</th>\n",
       "      <td>No Urgent Place</td>\n",
       "      <td>Friend(s)</td>\n",
       "      <td>Sunny</td>\n",
       "      <td>80</td>\n",
       "      <td>10AM</td>\n",
       "      <td>Carry out &amp; Take away</td>\n",
       "      <td>2h</td>\n",
       "      <td>Female</td>\n",
       "      <td>21</td>\n",
       "      <td>Unmarried partner</td>\n",
       "      <td>...</td>\n",
       "      <td>never</td>\n",
       "      <td>NaN</td>\n",
       "      <td>4~8</td>\n",
       "      <td>1~3</td>\n",
       "      <td>1</td>\n",
       "      <td>1</td>\n",
       "      <td>0</td>\n",
       "      <td>0</td>\n",
       "      <td>1</td>\n",
       "      <td>1</td>\n",
       "    </tr>\n",
       "    <tr>\n",
       "      <th>3</th>\n",
       "      <td>No Urgent Place</td>\n",
       "      <td>Friend(s)</td>\n",
       "      <td>Sunny</td>\n",
       "      <td>80</td>\n",
       "      <td>2PM</td>\n",
       "      <td>Coffee House</td>\n",
       "      <td>2h</td>\n",
       "      <td>Female</td>\n",
       "      <td>21</td>\n",
       "      <td>Unmarried partner</td>\n",
       "      <td>...</td>\n",
       "      <td>never</td>\n",
       "      <td>NaN</td>\n",
       "      <td>4~8</td>\n",
       "      <td>1~3</td>\n",
       "      <td>1</td>\n",
       "      <td>1</td>\n",
       "      <td>0</td>\n",
       "      <td>0</td>\n",
       "      <td>1</td>\n",
       "      <td>0</td>\n",
       "    </tr>\n",
       "    <tr>\n",
       "      <th>4</th>\n",
       "      <td>No Urgent Place</td>\n",
       "      <td>Friend(s)</td>\n",
       "      <td>Sunny</td>\n",
       "      <td>80</td>\n",
       "      <td>2PM</td>\n",
       "      <td>Coffee House</td>\n",
       "      <td>1d</td>\n",
       "      <td>Female</td>\n",
       "      <td>21</td>\n",
       "      <td>Unmarried partner</td>\n",
       "      <td>...</td>\n",
       "      <td>never</td>\n",
       "      <td>NaN</td>\n",
       "      <td>4~8</td>\n",
       "      <td>1~3</td>\n",
       "      <td>1</td>\n",
       "      <td>1</td>\n",
       "      <td>0</td>\n",
       "      <td>0</td>\n",
       "      <td>1</td>\n",
       "      <td>0</td>\n",
       "    </tr>\n",
       "  </tbody>\n",
       "</table>\n",
       "<p>5 rows × 26 columns</p>\n",
       "</div>"
      ],
      "text/plain": [
       "       destination  passanger weather  temperature  time  \\\n",
       "0  No Urgent Place      Alone   Sunny           55   2PM   \n",
       "1  No Urgent Place  Friend(s)   Sunny           80  10AM   \n",
       "2  No Urgent Place  Friend(s)   Sunny           80  10AM   \n",
       "3  No Urgent Place  Friend(s)   Sunny           80   2PM   \n",
       "4  No Urgent Place  Friend(s)   Sunny           80   2PM   \n",
       "\n",
       "                  coupon expiration  gender age      maritalStatus  ...  \\\n",
       "0        Restaurant(<20)         1d  Female  21  Unmarried partner  ...   \n",
       "1           Coffee House         2h  Female  21  Unmarried partner  ...   \n",
       "2  Carry out & Take away         2h  Female  21  Unmarried partner  ...   \n",
       "3           Coffee House         2h  Female  21  Unmarried partner  ...   \n",
       "4           Coffee House         1d  Female  21  Unmarried partner  ...   \n",
       "\n",
       "   CoffeeHouse CarryAway RestaurantLessThan20 Restaurant20To50  \\\n",
       "0        never       NaN                  4~8              1~3   \n",
       "1        never       NaN                  4~8              1~3   \n",
       "2        never       NaN                  4~8              1~3   \n",
       "3        never       NaN                  4~8              1~3   \n",
       "4        never       NaN                  4~8              1~3   \n",
       "\n",
       "  toCoupon_GEQ5min toCoupon_GEQ15min toCoupon_GEQ25min direction_same  \\\n",
       "0                1                 0                 0              0   \n",
       "1                1                 0                 0              0   \n",
       "2                1                 1                 0              0   \n",
       "3                1                 1                 0              0   \n",
       "4                1                 1                 0              0   \n",
       "\n",
       "  direction_opp  Y  \n",
       "0             1  1  \n",
       "1             1  0  \n",
       "2             1  1  \n",
       "3             1  0  \n",
       "4             1  0  \n",
       "\n",
       "[5 rows x 26 columns]"
      ]
     },
     "execution_count": 5,
     "metadata": {},
     "output_type": "execute_result"
    }
   ],
   "source": [
    "data.head()"
   ]
  },
  {
   "cell_type": "markdown",
   "metadata": {
    "id": "GcDs78ZH_qRH"
   },
   "source": [
    "2. Investigate the dataset for missing or problematic data."
   ]
  },
  {
   "cell_type": "code",
   "execution_count": 62,
   "metadata": {
    "id": "6CwL6oWj_qRH"
   },
   "outputs": [
    {
     "name": "stdout",
     "output_type": "stream",
     "text": [
      "Row Count with Nulls:  12576\n",
      "Rows without Nulls:  108\n",
      "Total Row Count:  12684\n",
      "False\n",
      "Coupon Values\n",
      "['Restaurant(<20)' 'Coffee House' 'Carry out & Take away' 'Bar'\n",
      " 'Restaurant(20-50)']\n",
      "Age Values:\n",
      "[21 46 26 31 41 50 36 20]\n",
      "Income Values:\n",
      "[ 37500  62500  12500  75000  50000  25000 100000  87500  12499]\n",
      "Cheap Restaurant Values:\n",
      "[4.  1.  0.5 9.  nan 0. ]\n",
      "Coffee House:\n",
      "['never' 'less1' '4~8' '1~3' 'gt8' nan]\n"
     ]
    }
   ],
   "source": [
    "# After running the head function, there was at least 1 column with consistent NaN, let's look at how many rows have nulls\n",
    "\n",
    "row_count_with_null = data.isnull().any(axis=1).sum()\n",
    "print(\"Row Count with Nulls: \", row_count_with_null)\n",
    "print(\"Rows without Nulls: \", len(data) - row_count_with_null)\n",
    "print('Total Row Count: ', len(data))\n",
    "\n",
    "# This shows almost every row has null values so doing a simple dropna() function call would leave only 108 rows.  Instead a more thorugh analysis is required\n",
    "\n",
    "# Verify the most important column has no null values\n",
    "print(data['Y'].isnull().any())\n",
    "\n",
    "# Verify the coupon description is valid and what the options are\n",
    "print('Coupon Values')\n",
    "print(data['coupon'].unique())\n",
    "\n",
    "# Verify the age data looks correct - it won't work numerically\n",
    "print('Age Values:')\n",
    "print(data['age'].unique())\n",
    "\n",
    "# Verify the unique Income values to create a mapping\n",
    "print('Income Values:')\n",
    "print(data['income'].unique())\n",
    "\n",
    "# Verify the unique Restaurant values\n",
    "print('Cheap Restaurant Values:')\n",
    "print(data['RestaurantLessThan20'].unique())\n",
    "\n",
    "# Verify the unique coffee values\n",
    "print('Coffee House:')\n",
    "print(data['CoffeeHouse'].unique())\n",
    "\n",
    "\n",
    "# The bar column being a string is also going to be a problem"
   ]
  },
  {
   "cell_type": "markdown",
   "metadata": {
    "id": "bSdVSpYB_qRH"
   },
   "source": [
    "3. Decide what to do about your missing data -- drop, replace, other..."
   ]
  },
  {
   "cell_type": "code",
   "execution_count": 66,
   "metadata": {
    "id": "tyvoAC5F_qRI"
   },
   "outputs": [
    {
     "name": "stdout",
     "output_type": "stream",
     "text": [
      "      destination passanger weather  temperature time                 coupon  \\\n",
      "12679        Home   Partner   Rainy           55  6PM  Carry out & Take away   \n",
      "12680        Work     Alone   Rainy           55  7AM  Carry out & Take away   \n",
      "12681        Work     Alone   Snowy           30  7AM           Coffee House   \n",
      "12682        Work     Alone   Snowy           30  7AM                    Bar   \n",
      "12683        Work     Alone   Sunny           80  7AM      Restaurant(20-50)   \n",
      "\n",
      "      expiration gender  age maritalStatus  ...  CarryAway  \\\n",
      "12679         1d   Male  NaN        Single  ...        1~3   \n",
      "12680         1d   Male  NaN        Single  ...        1~3   \n",
      "12681         1d   Male  NaN        Single  ...        1~3   \n",
      "12682         1d   Male  NaN        Single  ...        1~3   \n",
      "12683         2h   Male  NaN        Single  ...        1~3   \n",
      "\n",
      "      RestaurantLessThan20 Restaurant20To50  toCoupon_GEQ5min  \\\n",
      "12679                  NaN              1~3                 1   \n",
      "12680                  NaN              1~3                 1   \n",
      "12681                  NaN              1~3                 1   \n",
      "12682                  NaN              1~3                 1   \n",
      "12683                  NaN              1~3                 1   \n",
      "\n",
      "      toCoupon_GEQ15min toCoupon_GEQ25min  direction_same direction_opp  Y  \\\n",
      "12679                 0                 0               1             0  1   \n",
      "12680                 0                 0               0             1  1   \n",
      "12681                 0                 0               1             0  0   \n",
      "12682                 1                 1               0             1  0   \n",
      "12683                 0                 0               1             0  0   \n",
      "\n",
      "      bar_visits  \n",
      "12679        0.0  \n",
      "12680        0.0  \n",
      "12681        0.0  \n",
      "12682        0.0  \n",
      "12683        0.0  \n",
      "\n",
      "[5 rows x 27 columns]\n"
     ]
    }
   ],
   "source": [
    "# Fix the Bar Visits to a numeric mapping\n",
    "mapping = {\n",
    "    'never': 0,\n",
    "    'less1': 0.5,\n",
    "    '1-3': 2,\n",
    "    'gt8': 9\n",
    "}\n",
    "\n",
    "# Convert the column using the mapping\n",
    "data['bar_visits'] = data['Bar'].map(mapping)\n",
    "\n",
    "# Fix the Coffee House to a numeric mapping\n",
    "mapping = {\n",
    "    'never': 0,\n",
    "    'less1': 0.5,\n",
    "    '1~3': 2,\n",
    "    '4~8': 5,\n",
    "    'gt8': 9\n",
    "}\n",
    "\n",
    "# Convert the column using the mapping\n",
    "data['CoffeeHouse'] = data['CoffeeHouse'].fillna(0)\n",
    "data['CoffeeHouse'] = data['CoffeeHouse'].map(mapping)\n",
    "\n",
    "# Fix the Age to a numeric mapping\n",
    "mapping = {\n",
    "    'below21': 20,\n",
    "    '21': 21,\n",
    "    '46': 46,\n",
    "    '26': 26,\n",
    "    '31': 31,\n",
    "    '41': 41,\n",
    "    '36': 36,\n",
    "    '50plus': 50,\n",
    "}\n",
    "\n",
    "data['age'] = data['age'].map(mapping)\n",
    "\n",
    "# Fix the income ranges to lower bounds numericals\n",
    "mapping = {\n",
    "    '$37500 - $49999': 37500,\n",
    "    '$62500 - $74999': 62500,\n",
    "    '$12500 - $24999': 12500,\n",
    "    '$75000 - $87499': 75000,\n",
    "    '$50000 - $62499': 50000,\n",
    "    '$25000 - $37499': 25000,\n",
    "    '$100000 or More': 100000,\n",
    "    '$87500 - $99999': 87500,\n",
    "    'Less than $12500': 12499\n",
    "}\n",
    "\n",
    "data['income'] = data['income'].map(mapping)\n",
    "\n",
    "# Fix the Cheap Restaurant string values - drop any nan\n",
    "mapping = {\n",
    "    '0': 0,\n",
    "    'never': 0,\n",
    "    'less1': .5,\n",
    "    '1~3': 1,\n",
    "    '4~8': 4,\n",
    "    'gt8': 9\n",
    "}\n",
    "\n",
    "data['RestaurantLessThan20'] = data['RestaurantLessThan20'].fillna(0)\n",
    "data['RestaurantLessThan20'] = data['RestaurantLessThan20'].map(mapping)\n",
    "\n",
    "# Do a sanity check on the clean up\n",
    "print(data.tail())"
   ]
  },
  {
   "cell_type": "markdown",
   "metadata": {
    "id": "YE6oJbXd_qRI"
   },
   "source": [
    "4. What proportion of the total observations chose to accept the coupon?\n",
    "\n"
   ]
  },
  {
   "cell_type": "code",
   "execution_count": 310,
   "metadata": {
    "id": "86GGqBTv_qRI"
   },
   "outputs": [
    {
     "name": "stdout",
     "output_type": "stream",
     "text": [
      "   Y  Proportion\n",
      "0  1    0.568433\n",
      "1  0    0.431567\n"
     ]
    }
   ],
   "source": [
    "proportions = data['Y'].value_counts(normalize=True).reset_index()\n",
    "proportions.columns = ['Y', 'Proportion']\n",
    "\n",
    "print(proportions)\n",
    "#57% of people accepted the coupon"
   ]
  },
  {
   "cell_type": "markdown",
   "metadata": {
    "id": "vflz0DoE_qRI"
   },
   "source": [
    "5. Use a bar plot to visualize the `coupon` column."
   ]
  },
  {
   "cell_type": "code",
   "execution_count": 312,
   "metadata": {
    "id": "dHFh3E45_qRI"
   },
   "outputs": [
    {
     "data": {
      "text/plain": [
       "<Axes: xlabel='Y', ylabel='Proportion'>"
      ]
     },
     "execution_count": 312,
     "metadata": {},
     "output_type": "execute_result"
    },
    {
     "data": {
      "image/png": "[encoded data removed]",
      "text/plain": [
       "<Figure size 640x480 with 1 Axes>"
      ]
     },
     "metadata": {},
     "output_type": "display_data"
    }
   ],
   "source": [
    "sns.barplot(data=proportions, x='Y',y='Proportion')"
   ]
  },
  {
   "cell_type": "markdown",
   "metadata": {
    "id": "Qw4lCyx2_qRI"
   },
   "source": [
    "6. Use a histogram to visualize the temperature column."
   ]
  },
  {
   "cell_type": "code",
   "execution_count": 314,
   "metadata": {
    "id": "Yg9Anv71_qRI"
   },
   "outputs": [
    {
     "data": {
      "text/plain": [
       "<Axes: xlabel='temperature', ylabel='Count'>"
      ]
     },
     "execution_count": 314,
     "metadata": {},
     "output_type": "execute_result"
    },
    {
     "data": {
      "image/png": "[encoded data removed]",
      "text/plain": [
       "<Figure size 640x480 with 1 Axes>"
      ]
     },
     "metadata": {},
     "output_type": "display_data"
    }
   ],
   "source": [
    "sns.histplot(data=data, x='temperature', bins=5, kde=True)"
   ]
  },
  {
   "cell_type": "markdown",
   "metadata": {
    "id": "FupfgeJk_qRJ"
   },
   "source": [
    "**Investigating the Bar Coupons**\n",
    "\n",
    "Now, we will lead you through an exploration of just the bar related coupons.  \n",
    "\n",
    "1. Create a new `DataFrame` that contains just the bar coupons.\n"
   ]
  },
  {
   "cell_type": "code",
   "execution_count": 348,
   "metadata": {
    "id": "tMBlWuGq_qRJ"
   },
   "outputs": [],
   "source": [
    "bar_only = data.query(\"coupon == 'Bar'\")"
   ]
  },
  {
   "cell_type": "markdown",
   "metadata": {
    "id": "8ue6uCqf_qRJ"
   },
   "source": [
    "2. What proportion of bar coupons were accepted?"
   ]
  },
  {
   "cell_type": "code",
   "execution_count": 350,
   "metadata": {
    "id": "hSdte8Mi_qRK"
   },
   "outputs": [
    {
     "name": "stdout",
     "output_type": "stream",
     "text": [
      "   Y  Proportion\n",
      "0  0    0.589985\n",
      "1  1    0.410015\n"
     ]
    }
   ],
   "source": [
    "proportions = bar_only['Y'].value_counts(normalize=True).reset_index()\n",
    "proportions.columns = ['Y', 'Proportion']\n",
    "\n",
    "print(proportions)\n",
    "# Lower than the overal at 41%"
   ]
  },
  {
   "cell_type": "markdown",
   "metadata": {
    "id": "85nA_iEi_qRK"
   },
   "source": [
    "3. Compare the acceptance rate between those who went to a bar 3 or fewer times a month to those who went more.\n"
   ]
  },
  {
   "cell_type": "code",
   "execution_count": 354,
   "metadata": {
    "id": "LBOrN-XM_qRK"
   },
   "outputs": [
    {
     "name": "stdout",
     "output_type": "stream",
     "text": [
      "visit_category\n",
      "3 or fewer     0.292143\n",
      "more than 3    0.677472\n",
      "Name: Y, dtype: float64\n"
     ]
    }
   ],
   "source": [
    "bar_only = bar_only.copy()\n",
    "\n",
    "bar_only.loc[:, 'visit_category'] = bar_only['bar_visits'].apply(lambda x: '3 or fewer' if x <= 3 else 'more than 3')\n",
    "\n",
    "# Calculate acceptance rates of the two groups\n",
    "acceptance_rates = bar_only.groupby('visit_category')['Y'].mean()\n",
    "print(acceptance_rates)\n",
    "\n",
    "# The data shows that 2/3rds of people who frequent bars more than 3 times were twice as a likely to accept (which is logical)"
   ]
  },
  {
   "cell_type": "markdown",
   "metadata": {
    "id": "RBgcQwH4_qRK"
   },
   "source": [
    "4. Compare the acceptance rate between drivers who go to a bar more than once a month and are over the age of 25 to the all others.  Is there a difference?\n"
   ]
  },
  {
   "cell_type": "code",
   "execution_count": 364,
   "metadata": {
    "id": "bf28bbeX_qRK"
   },
   "outputs": [
    {
     "name": "stdout",
     "output_type": "stream",
     "text": [
      "category\n",
      "All others                            0.405637\n",
      "More than once a month and over 25    0.700000\n",
      "Name: Y, dtype: float64\n"
     ]
    }
   ],
   "source": [
    "bar_only = data.query(\"coupon == 'Bar'\").copy()\n",
    "\n",
    "bar_only.loc[:, 'category'] = bar_only.apply(lambda x: 'More than once a month and over 25' if x['bar_visits'] > 1 \n",
    "                                             and x['age'] > 25 else 'All others', axis=1)\n",
    "\n",
    "# Calculate acceptance rates of the two groups\n",
    "acceptance_rates = bar_only.groupby('category')['Y'].mean()\n",
    "print(acceptance_rates)\n",
    "\n",
    "# The acceptance rate indicates the target audience is pretty high"
   ]
  },
  {
   "cell_type": "markdown",
   "metadata": {
    "id": "S4RKT4PJ_qRK"
   },
   "source": [
    "5. Use the same process to compare the acceptance rate between drivers who go to bars more than once a month and had passengers that were not a kid and had occupations other than farming, fishing, or forestry.\n"
   ]
  },
  {
   "cell_type": "code",
   "execution_count": 366,
   "metadata": {
    "id": "sENaI2Tg_qRK"
   },
   "outputs": [
    {
     "name": "stdout",
     "output_type": "stream",
     "text": [
      "category\n",
      "All others                                                                                          0.407111\n",
      "More than once a month, had passengers who are not kids and were not farming, fishing or foresty    0.700000\n",
      "Name: Y, dtype: float64\n"
     ]
    }
   ],
   "source": [
    "bar_only = data.query(\"coupon == 'Bar'\").copy()\n",
    "\n",
    "bar_only.loc[:, 'category'] = bar_only.apply(lambda x: 'More than once a month, had passengers who are not kids and were not farming, fishing or foresty' \n",
    "                                             if x['bar_visits'] > 1 and\n",
    "                                             x['occupation'] != \"Farming Fishing & Forestry\" and\n",
    "                                             x['passanger'] != \"Kid(s)\" and \n",
    "                                             x['passanger'] != \"Alone\"\n",
    "                                             else 'All others', axis=1)\n",
    "\n",
    "# Calculate acceptance rates of the two groups\n",
    "acceptance_rates = bar_only.groupby('category')['Y'].mean()\n",
    "print(acceptance_rates)\n",
    "\n",
    "# The acceptance rate indicates that kids do affect the decision, but not as high as I would have imagined"
   ]
  },
  {
   "cell_type": "markdown",
   "metadata": {
    "id": "n2LIUTil_qRK"
   },
   "source": [
    "6. Compare the acceptance rates between those drivers who:\n",
    "\n",
    "- go to bars more than once a month, had passengers that were not a kid, and were not widowed *OR*\n",
    "- go to bars more than once a month and are under the age of 30 *OR*\n",
    "- go to cheap restaurants more than 4 times a month and income is less than 50K.\n",
    "\n"
   ]
  },
  {
   "cell_type": "code",
   "execution_count": 368,
   "metadata": {
    "id": "aK_wEzx7_qRK"
   },
   "outputs": [
    {
     "name": "stdout",
     "output_type": "stream",
     "text": [
      "category\n",
      "All others    0.407111\n",
      "Criteria      0.700000\n",
      "Name: Y, dtype: float64\n"
     ]
    }
   ],
   "source": [
    "# Taking this question to require running three separate analysis and then in question 7, correlating the data\n",
    "\n",
    "bar_only = data.query(\"coupon == 'Bar'\").copy()\n",
    "\n",
    "# This analysis is for person who go to bars more than once a month, had passengers that were not a kid, and were not widowed\n",
    "bar_only.loc[:, 'category'] = bar_only.apply(lambda x: 'Criteria' \n",
    "                                             if x['bar_visits'] > 1 and\n",
    "                                             x['passanger'] != \"Kid(s)\" and \n",
    "                                             x['passanger'] != \"Alone\" and\n",
    "                                             x['maritalStatus'] != \"Widowed\"\n",
    "                                             else 'All others', axis=1)\n",
    "\n",
    "# Calculate acceptance rates of the two groups\n",
    "acceptance_rates = bar_only.groupby('category')['Y'].mean()\n",
    "print(acceptance_rates)\n",
    "\n",
    "# The acceptance rate indicates that it is pretty high confidence of adoption"
   ]
  },
  {
   "cell_type": "code",
   "execution_count": 370,
   "metadata": {},
   "outputs": [
    {
     "name": "stdout",
     "output_type": "stream",
     "text": [
      "category\n",
      "All others    0.402525\n",
      "Criteria      0.810811\n",
      "Name: Y, dtype: float64\n"
     ]
    }
   ],
   "source": [
    "# This analysis is for person who go to bars more than once a month and are under the age of 30\n",
    "bar_only = data.query(\"coupon == 'Bar'\").copy()\n",
    "\n",
    "bar_only.loc[:, 'category'] = bar_only.apply(lambda x: 'Criteria' \n",
    "                                             if x['bar_visits'] > 1 and\n",
    "                                             x['age'] < 30\n",
    "                                             else 'All others', axis=1)\n",
    "\n",
    "# Calculate acceptance rates of the two groups\n",
    "acceptance_rates = bar_only.groupby('category')['Y'].mean()\n",
    "print(acceptance_rates)\n",
    "\n",
    "# The acceptance rate indicates that this is a good audience"
   ]
  },
  {
   "cell_type": "code",
   "execution_count": 372,
   "metadata": {},
   "outputs": [
    {
     "name": "stdout",
     "output_type": "stream",
     "text": [
      "analysis\n",
      "All others    0.400833\n",
      "Criteria      0.593750\n",
      "Name: Y, dtype: float64\n"
     ]
    }
   ],
   "source": [
    "# This analysis is for person go to cheap restaurants more than 4 times a month and income is less than 50K\n",
    "bar_only = data.query(\"coupon == 'Bar'\").copy()\n",
    "\n",
    "bar_only.loc[:, 'analysis'] = bar_only.apply(lambda x: 'Criteria' \n",
    "                                             if x['RestaurantLessThan20'] > 4 and\n",
    "                                             x['income'] < 50000\n",
    "                                             else 'All others', axis=1)\n",
    "\n",
    "# Calculate acceptance rates of the two groups\n",
    "acceptance_rates = bar_only.groupby('analysis')['Y'].mean()\n",
    "print(acceptance_rates)\n",
    "\n",
    "# The acceptance rate indicates that it is greater than 50% on a lower income and cheaper meal, but not as definitive as the other analysis"
   ]
  },
  {
   "cell_type": "markdown",
   "metadata": {
    "id": "v3fL3QkO_qRK"
   },
   "source": [
    "7.  Based on these observations, what do you hypothesize about drivers who accepted the bar coupons?"
   ]
  },
  {
   "cell_type": "code",
   "execution_count": 376,
   "metadata": {
    "id": "Y48naDFh_qRL"
   },
   "outputs": [],
   "source": [
    "# Younger people who visit a bar more than once a month are the most likely to accept the coupon."
   ]
  },
  {
   "cell_type": "markdown",
   "metadata": {
    "id": "r4Hu1zOb_qRL"
   },
   "source": [
    "### Independent Investigation\n",
    "\n",
    "Using the bar coupon example as motivation, you are to explore one of the other coupon groups and try to determine the characteristics of passengers who accept the coupons.  "
   ]
  },
  {
   "cell_type": "code",
   "execution_count": 25,
   "metadata": {
    "id": "0c71cQhu_qRL"
   },
   "outputs": [],
   "source": [
    "coffee_only = data.query(\"coupon == 'Coffee House'\")"
   ]
  },
  {
   "cell_type": "code",
   "execution_count": 27,
   "metadata": {
    "id": "QEsBkvIN_qRL"
   },
   "outputs": [
    {
     "name": "stdout",
     "output_type": "stream",
     "text": [
      "   Y  Proportion\n",
      "0  0    0.500751\n",
      "1  1    0.499249\n"
     ]
    }
   ],
   "source": [
    "proportions = coffee_only['Y'].value_counts(normalize=True).reset_index()\n",
    "proportions.columns = ['Y', 'Proportion']\n",
    "\n",
    "print(proportions)\n",
    "\n",
    "# Shows nearly a 50/50 acceptance"
   ]
  },
  {
   "cell_type": "code",
   "execution_count": 39,
   "metadata": {
    "id": "fTC2WGE3_qRL"
   },
   "outputs": [
    {
     "data": {
      "text/plain": [
       "<Axes: xlabel='age', ylabel='Y'>"
      ]
     },
     "execution_count": 39,
     "metadata": {},
     "output_type": "execute_result"
    },
    {
     "data": {
      "image/png": "[encoded data removed]",
      "text/plain": [
       "<Figure size 640x480 with 1 Axes>"
      ]
     },
     "metadata": {},
     "output_type": "display_data"
    }
   ],
   "source": [
    "sns.barplot(data=coffee_only, x='age',y='Y')\n",
    "\n",
    "# breakdown of who accepts more often based on age - this shows 20 year olds the largest group (college students likely)"
   ]
  },
  {
   "cell_type": "code",
   "execution_count": 46,
   "metadata": {
    "id": "RrqUWn7d_qRL"
   },
   "outputs": [
    {
     "data": {
      "text/plain": [
       "<Axes: xlabel='income', ylabel='Y'>"
      ]
     },
     "execution_count": 46,
     "metadata": {},
     "output_type": "execute_result"
    },
    {
     "data": {
      "image/png": "[encoded data removed]",
      "text/plain": [
       "<Figure size 640x480 with 1 Axes>"
      ]
     },
     "metadata": {},
     "output_type": "display_data"
    }
   ],
   "source": [
    "sns.barplot(data=coffee_only.query('age == 20'), x='income',y='Y')\n",
    "\n",
    "# Figuring income might play into the overall proportion - but it wasn't consistent"
   ]
  },
  {
   "cell_type": "code",
   "execution_count": 50,
   "metadata": {
    "id": "_oykf8YP_qRL"
   },
   "outputs": [
    {
     "data": {
      "text/plain": [
       "<Axes: xlabel='temperature', ylabel='Y'>"
      ]
     },
     "execution_count": 50,
     "metadata": {},
     "output_type": "execute_result"
    },
    {
     "data": {
      "image/png": "[encoded data removed]",
      "text/plain": [
       "<Figure size 640x480 with 1 Axes>"
      ]
     },
     "metadata": {},
     "output_type": "display_data"
    }
   ],
   "source": [
    "sns.barplot(data=coffee_only.query('age == 20'), x='temperature',y='Y')\n",
    "\n",
    "# Interesting the warmer the temperature for younger people leads to more coffee"
   ]
  },
  {
   "cell_type": "code",
   "execution_count": 68,
   "metadata": {},
   "outputs": [
    {
     "data": {
      "text/plain": [
       "<Axes: xlabel='CoffeeHouse', ylabel='Y'>"
      ]
     },
     "execution_count": 68,
     "metadata": {},
     "output_type": "execute_result"
    },
    {
     "data": {
      "image/png": "[encoded data removed]",
      "text/plain": [
       "<Figure size 640x480 with 1 Axes>"
      ]
     },
     "metadata": {},
     "output_type": "display_data"
    }
   ],
   "source": [
    "sns.barplot(data=coffee_only.query('(age == 20) & (temperature == 80)'), x='CoffeeHouse',y='Y')\n",
    "\n",
    "# Looking at frequency of visits - not surprising results with never being the lowest"
   ]
  }
 ],
 "metadata": {
  "colab": {
   "provenance": []
  },
  "kernelspec": {
   "display_name": "Python 3 (ipykernel)",
   "language": "python",
   "name": "python3"
  },
  "language_info": {
   "codemirror_mode": {
    "name": "ipython",
    "version": 3
   },
   "file_extension": ".py",
   "mimetype": "text/x-python",
   "name": "python",
   "nbconvert_exporter": "python",
   "pygments_lexer": "ipython3",
   "version": "3.12.4"
  }
 },
 "nbformat": 4,
 "nbformat_minor": 4
}
