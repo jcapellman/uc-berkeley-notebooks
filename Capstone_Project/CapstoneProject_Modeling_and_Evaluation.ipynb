{
 "cells": [
  {
   "cell_type": "markdown",
   "id": "eeb2e106-a3c1-4365-89bd-d47a6640c472",
   "metadata": {},
   "source": [
    "# TCP Classification - Model Training and Evaluation"
   ]
  },
  {
   "cell_type": "markdown",
   "id": "1ed29f4e-38c7-4885-a339-16ab47bc51a0",
   "metadata": {},
   "source": [
    "This notebook assumes the CapstoneProject_eda notebook was run to generate the cleaned and labeled data set."
   ]
  },
  {
   "cell_type": "markdown",
   "id": "afa2201b-9c47-4914-83d6-ce7b61d8df1d",
   "metadata": {},
   "source": [
    "# 1. Data Loading and Prep"
   ]
  },
  {
   "cell_type": "markdown",
   "id": "8081dd34-5fb9-43a4-acc9-67ba2c30ad2e",
   "metadata": {},
   "source": [
    "## Load and Split Data"
   ]
  },
  {
   "cell_type": "code",
   "execution_count": 28,
   "id": "16bb2774-e9a8-4eb3-a17b-20436e4cade3",
   "metadata": {},
   "outputs": [
    {
     "name": "stdout",
     "output_type": "stream",
     "text": [
      "<class 'pandas.core.frame.DataFrame'>\n",
      "RangeIndex: 707534 entries, 0 to 707533\n",
      "Data columns (total 36 columns):\n",
      " #   Column                                  Non-Null Count   Dtype  \n",
      "---  ------                                  --------------   -----  \n",
      " 0   SourceIP                                707534 non-null  int64  \n",
      " 1   DestinationIP                           707534 non-null  int64  \n",
      " 2   SourcePort                              707534 non-null  int64  \n",
      " 3   DestinationPort                         707534 non-null  int64  \n",
      " 4   Duration                                707534 non-null  float64\n",
      " 5   FlowBytesSent                           707534 non-null  int64  \n",
      " 6   FlowSentRate                            707534 non-null  float64\n",
      " 7   FlowBytesReceived                       707534 non-null  int64  \n",
      " 8   FlowReceivedRate                        707534 non-null  float64\n",
      " 9   PacketLengthVariance                    707534 non-null  float64\n",
      " 10  PacketLengthStandardDeviation           707534 non-null  float64\n",
      " 11  PacketLengthMean                        707534 non-null  float64\n",
      " 12  PacketLengthMedian                      707534 non-null  float64\n",
      " 13  PacketLengthMode                        707534 non-null  int64  \n",
      " 14  PacketLengthSkewFromMedian              707534 non-null  float64\n",
      " 15  PacketLengthSkewFromMode                707534 non-null  float64\n",
      " 16  PacketLengthCoefficientofVariation      707534 non-null  float64\n",
      " 17  PacketTimeVariance                      707534 non-null  float64\n",
      " 18  PacketTimeStandardDeviation             707534 non-null  float64\n",
      " 19  PacketTimeMean                          707534 non-null  float64\n",
      " 20  PacketTimeMedian                        707534 non-null  float64\n",
      " 21  PacketTimeMode                          707534 non-null  float64\n",
      " 22  PacketTimeSkewFromMedian                707534 non-null  float64\n",
      " 23  PacketTimeSkewFromMode                  707534 non-null  float64\n",
      " 24  PacketTimeCoefficientofVariation        707534 non-null  float64\n",
      " 25  ResponseTimeTimeVariance                707534 non-null  float64\n",
      " 26  ResponseTimeTimeStandardDeviation       707534 non-null  float64\n",
      " 27  ResponseTimeTimeMean                    707534 non-null  float64\n",
      " 28  ResponseTimeTimeMedian                  707534 non-null  float64\n",
      " 29  ResponseTimeTimeMode                    707534 non-null  float64\n",
      " 30  ResponseTimeTimeSkewFromMedian          707534 non-null  float64\n",
      " 31  ResponseTimeTimeSkewFromMode            707534 non-null  float64\n",
      " 32  ResponseTimeTimeCoefficientofVariation  707534 non-null  float64\n",
      " 33  DoH                                     707534 non-null  bool   \n",
      " 34  label                                   707534 non-null  int64  \n",
      " 35  unix_timestamp                          707534 non-null  int64  \n",
      "dtypes: bool(1), float64(26), int64(9)\n",
      "memory usage: 189.6 MB\n",
      "None\n"
     ]
    }
   ],
   "source": [
    "import pandas as pd\n",
    "from sklearn.model_selection import train_test_split\n",
    "from sklearn.preprocessing import StandardScaler\n",
    "\n",
    "# Load dataset\n",
    "data = pd.read_csv('data/cleaned_data.csv')\n",
    "\n",
    "# Split into features (X) and target (y)\n",
    "X = data.drop('label', axis=1)\n",
    "y = data['label']\n",
    "\n",
    "# Train-test split\n",
    "X_train, X_test, y_train, y_test = train_test_split(X, y, test_size=0.2, random_state=42)"
   ]
  },
  {
   "cell_type": "markdown",
   "id": "881225cb-8941-4ba5-8eeb-8b12c4884896",
   "metadata": {},
   "source": [
    "## Data Scaling"
   ]
  },
  {
   "cell_type": "code",
   "execution_count": 30,
   "id": "42dd27e8-d40c-41af-b191-ad4a9d7d0526",
   "metadata": {},
   "outputs": [],
   "source": [
    "from sklearn.preprocessing import StandardScaler\n",
    "\n",
    "scaler = StandardScaler()\n",
    "X_train = scaler.fit_transform(X_train)\n",
    "X_test = scaler.transform(X_test)"
   ]
  },
  {
   "cell_type": "markdown",
   "id": "bec7d125-8667-4e69-bb86-0ef3a452a034",
   "metadata": {},
   "source": [
    "## 2. Modeling"
   ]
  },
  {
   "cell_type": "markdown",
   "id": "3cf93307-2e62-40c1-b7f0-645c1d1c2b45",
   "metadata": {},
   "source": [
    "### Logistic Regression"
   ]
  },
  {
   "cell_type": "code",
   "execution_count": 40,
   "id": "7109c6c3-4b41-40c3-b78d-13c0c68ccbda",
   "metadata": {},
   "outputs": [
    {
     "name": "stderr",
     "output_type": "stream",
     "text": [
      "C:\\Users\\jcape\\anaconda3\\Lib\\site-packages\\sklearn\\linear_model\\_sag.py:350: ConvergenceWarning: The max_iter was reached which means the coef_ did not converge\n",
      "  warnings.warn(\n",
      "C:\\Users\\jcape\\anaconda3\\Lib\\site-packages\\sklearn\\linear_model\\_sag.py:350: ConvergenceWarning: The max_iter was reached which means the coef_ did not converge\n",
      "  warnings.warn(\n",
      "C:\\Users\\jcape\\anaconda3\\Lib\\site-packages\\sklearn\\linear_model\\_sag.py:350: ConvergenceWarning: The max_iter was reached which means the coef_ did not converge\n",
      "  warnings.warn(\n",
      "C:\\Users\\jcape\\anaconda3\\Lib\\site-packages\\sklearn\\linear_model\\_sag.py:350: ConvergenceWarning: The max_iter was reached which means the coef_ did not converge\n",
      "  warnings.warn(\n",
      "C:\\Users\\jcape\\anaconda3\\Lib\\site-packages\\sklearn\\linear_model\\_sag.py:350: ConvergenceWarning: The max_iter was reached which means the coef_ did not converge\n",
      "  warnings.warn(\n"
     ]
    }
   ],
   "source": [
    "from sklearn.linear_model import LogisticRegression\n",
    "from sklearn.model_selection import cross_val_score\n",
    "\n",
    "logistic_model = LogisticRegression(random_state=42, max_iter=500, solver='saga', n_jobs=-1)\n",
    "logistic_cv_scores = cross_val_score(logistic_model, X, y, cv=5, scoring='f1')"
   ]
  },
  {
   "cell_type": "markdown",
   "id": "c027a947-d3f4-43c6-b193-a888c7f8380c",
   "metadata": {},
   "source": [
    "### Random Forest"
   ]
  },
  {
   "cell_type": "code",
   "execution_count": 32,
   "id": "4cbf9ddc-b588-4400-b6f1-3e2a9e309b9c",
   "metadata": {},
   "outputs": [
    {
     "name": "stdout",
     "output_type": "stream",
     "text": [
      "Accuracy: 1.0\n"
     ]
    }
   ],
   "source": [
    "from sklearn.ensemble import RandomForestClassifier\n",
    "\n",
    "# Initialize random forest\n",
    "random_forest_model = RandomForestClassifier(random_state=42, n_estimators=50, n_jobs=-1)\n",
    "\n",
    "rf_cv_scores = cross_val_score(random_forest_model, X, y, cv=5, scoring='f1')"
   ]
  },
  {
   "cell_type": "markdown",
   "id": "58d47da2-8a0f-4f60-8fd4-84566c9c468a",
   "metadata": {},
   "source": [
    "### SVM"
   ]
  },
  {
   "cell_type": "code",
   "execution_count": null,
   "id": "733578a8-96be-47db-973d-bd8c174e0d84",
   "metadata": {},
   "outputs": [],
   "source": [
    "from sklearn.svm import SVC\n",
    "from sklearn.model_selection import cross_val_score\n",
    "\n",
    "# Initialize support vector machine\n",
    "svm_model = SVC(kernel='linear', random_state=42)\n",
    "\n",
    "svm_cv_scores = cross_val_score(svm_model, X, y, cv=5, scoring='f1', n_jobs=-1)"
   ]
  },
  {
   "cell_type": "markdown",
   "id": "a2be9c8b-9311-4e77-a913-1c89b3be623c",
   "metadata": {},
   "source": [
    "## 3. Comparison of Models"
   ]
  },
  {
   "cell_type": "code",
   "execution_count": null,
   "id": "4236af09-a3a3-499e-b16d-6e5cca6c1f2f",
   "metadata": {},
   "outputs": [],
   "source": [
    "print(f'Logistic Regression Mean F1-Score: {logistic_cv_scores.mean()}')\n",
    "print(f'Random Forest Mean F1-Score: {rf_cv_scores.mean()}')\n",
    "print(f'SVM Mean F1-Score: {svm_cv_scores.mean()}')"
   ]
  }
 ],
 "metadata": {
  "kernelspec": {
   "display_name": "Python 3 (ipykernel)",
   "language": "python",
   "name": "python3"
  },
  "language_info": {
   "codemirror_mode": {
    "name": "ipython",
    "version": 3
   },
   "file_extension": ".py",
   "mimetype": "text/x-python",
   "name": "python",
   "nbconvert_exporter": "python",
   "pygments_lexer": "ipython3",
   "version": "3.12.3"
  }
 },
 "nbformat": 4,
 "nbformat_minor": 5
}
