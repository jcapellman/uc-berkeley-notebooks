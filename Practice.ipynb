{
 "cells": [
  {
   "cell_type": "code",
   "execution_count": 1,
   "id": "dfa4be1b-5122-4064-9d24-702e709f2f36",
   "metadata": {},
   "outputs": [],
   "source": [
    "import numpy as np\n",
    "import pandas as pd"
   ]
  },
  {
   "cell_type": "code",
   "execution_count": 37,
   "id": "56827bba-bd34-4d95-a03c-7fa4183bd6f9",
   "metadata": {},
   "outputs": [
    {
     "data": {
      "text/html": [
       "<div>\n",
       "<style scoped>\n",
       "    .dataframe tbody tr th:only-of-type {\n",
       "        vertical-align: middle;\n",
       "    }\n",
       "\n",
       "    .dataframe tbody tr th {\n",
       "        vertical-align: top;\n",
       "    }\n",
       "\n",
       "    .dataframe thead th {\n",
       "        text-align: right;\n",
       "    }\n",
       "</style>\n",
       "<table border=\"1\" class=\"dataframe\">\n",
       "  <thead>\n",
       "    <tr style=\"text-align: right;\">\n",
       "      <th></th>\n",
       "      <th>A</th>\n",
       "      <th>B</th>\n",
       "      <th>C</th>\n",
       "      <th>D</th>\n",
       "    </tr>\n",
       "  </thead>\n",
       "  <tbody>\n",
       "    <tr>\n",
       "      <th>2024-08-23</th>\n",
       "      <td>0.294518</td>\n",
       "      <td>-1.052044</td>\n",
       "      <td>0.620513</td>\n",
       "      <td>0.256844</td>\n",
       "    </tr>\n",
       "    <tr>\n",
       "      <th>2024-08-24</th>\n",
       "      <td>1.612325</td>\n",
       "      <td>-0.271398</td>\n",
       "      <td>0.322909</td>\n",
       "      <td>-0.059617</td>\n",
       "    </tr>\n",
       "    <tr>\n",
       "      <th>2024-08-25</th>\n",
       "      <td>0.052598</td>\n",
       "      <td>0.052434</td>\n",
       "      <td>1.052605</td>\n",
       "      <td>-0.516229</td>\n",
       "    </tr>\n",
       "    <tr>\n",
       "      <th>2024-08-26</th>\n",
       "      <td>0.041728</td>\n",
       "      <td>0.099345</td>\n",
       "      <td>1.282465</td>\n",
       "      <td>1.156367</td>\n",
       "    </tr>\n",
       "    <tr>\n",
       "      <th>2024-08-27</th>\n",
       "      <td>0.944333</td>\n",
       "      <td>1.577573</td>\n",
       "      <td>-1.260195</td>\n",
       "      <td>0.859133</td>\n",
       "    </tr>\n",
       "  </tbody>\n",
       "</table>\n",
       "</div>"
      ],
      "text/plain": [
       "                   A         B         C         D\n",
       "2024-08-23  0.294518 -1.052044  0.620513  0.256844\n",
       "2024-08-24  1.612325 -0.271398  0.322909 -0.059617\n",
       "2024-08-25  0.052598  0.052434  1.052605 -0.516229\n",
       "2024-08-26  0.041728  0.099345  1.282465  1.156367\n",
       "2024-08-27  0.944333  1.577573 -1.260195  0.859133"
      ]
     },
     "execution_count": 37,
     "metadata": {},
     "output_type": "execute_result"
    }
   ],
   "source": [
    "dates = pd.date_range(\"20240823\", periods=6)\n",
    "\n",
    "df = pd.DataFrame(np.random.randn(6, 4), index=dates, columns=list(\"ABCD\"))\n",
    "\n",
    "df.head()\n"
   ]
  },
  {
   "cell_type": "code",
   "execution_count": 39,
   "id": "d9892f40-73a8-4ae7-937c-ba9f3a30d0dc",
   "metadata": {},
   "outputs": [
    {
     "data": {
      "text/plain": [
       "2024-08-23    0.294518\n",
       "2024-08-24    1.612325\n",
       "2024-08-25    0.052598\n",
       "2024-08-26    0.041728\n",
       "2024-08-27    0.944333\n",
       "2024-08-28   -1.220091\n",
       "Freq: D, Name: A, dtype: float64"
      ]
     },
     "execution_count": 39,
     "metadata": {},
     "output_type": "execute_result"
    }
   ],
   "source": [
    "df['A']"
   ]
  },
  {
   "cell_type": "code",
   "execution_count": 45,
   "id": "68b35bf4-3b2c-426c-88a9-3790848f2959",
   "metadata": {},
   "outputs": [
    {
     "data": {
      "text/plain": [
       "A    0.294518\n",
       "B   -1.052044\n",
       "C    0.620513\n",
       "D    0.256844\n",
       "Name: 2024-08-23 00:00:00, dtype: float64"
      ]
     },
     "execution_count": 45,
     "metadata": {},
     "output_type": "execute_result"
    }
   ],
   "source": [
    "df.loc['2024-08-23']\n"
   ]
  },
  {
   "cell_type": "code",
   "execution_count": null,
   "id": "c2768c3c-4903-42c3-b899-02912db8fcd7",
   "metadata": {},
   "outputs": [],
   "source": []
  }
 ],
 "metadata": {
  "kernelspec": {
   "display_name": "Python 3 (ipykernel)",
   "language": "python",
   "name": "python3"
  },
  "language_info": {
   "codemirror_mode": {
    "name": "ipython",
    "version": 3
   },
   "file_extension": ".py",
   "mimetype": "text/x-python",
   "name": "python",
   "nbconvert_exporter": "python",
   "pygments_lexer": "ipython3",
   "version": "3.12.4"
  }
 },
 "nbformat": 4,
 "nbformat_minor": 5
}
