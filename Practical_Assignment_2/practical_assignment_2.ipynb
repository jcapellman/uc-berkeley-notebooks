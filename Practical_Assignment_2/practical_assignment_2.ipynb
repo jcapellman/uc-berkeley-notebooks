{
 "cells": [
  {
   "cell_type": "markdown",
   "metadata": {},
   "source": [
    "# What drives the price of a car?\n",
    "\n",
    "![](images/kurt.jpeg)"
   ]
  },
  {
   "cell_type": "markdown",
   "metadata": {},
   "source": [
    "**OVERVIEW**\n",
    "\n",
    "In this application, you will explore a dataset from Kaggle. The original dataset contained information on 3 million used cars. The provided dataset contains information on 426K cars to ensure speed of processing.  Your goal is to understand what factors make a car more or less expensive.  As a result of your analysis, you should provide clear recommendations to your client -- a used car dealership -- as to what consumers value in a used car."
   ]
  },
  {
   "cell_type": "markdown",
   "metadata": {},
   "source": [
    "### CRISP-DM Framework\n",
    "\n",
    "<center>\n",
    "    <img src = images/crisp.png width = 50%/>\n",
    "</center>\n",
    "\n",
    "\n",
    "To frame the task, throughout our practical applications, we will refer back to a standard process in industry for data projects called CRISP-DM.  This process provides a framework for working through a data problem.  Your first step in this application will be to read through a brief overview of CRISP-DM [here](https://mo-pcco.s3.us-east-1.amazonaws.com/BH-PCMLAI/module_11/readings_starter.zip).  After reading the overview, answer the questions below."
   ]
  },
  {
   "cell_type": "markdown",
   "metadata": {},
   "source": [
    "### Business Understanding\n",
    "\n",
    "From a business perspective, we are tasked with identifying key drivers for used car prices.  In the CRISP-DM overview, we are asked to convert this business framing to a data problem definition.  Using a few sentences, reframe the task as a data task with the appropriate technical vocabulary. "
   ]
  },
  {
   "cell_type": "markdown",
   "metadata": {},
   "source": [
    "#### Answer\n",
    "\n",
    "The target variable will be the car's price. The predictor's variables will include make, model, year, mileage, vehicle condition and location. The goal of the assignment is to build a predictive model that properly quantifies the impact the aforementioned features on the car's price. This insight can provide actionable recommendations to the used car dealership."
   ]
  },
  {
   "cell_type": "markdown",
   "metadata": {},
   "source": [
    "### Data Understanding\n",
    "\n",
    "After considering the business understanding, we want to get familiar with our data.  Write down some steps that you would take to get to know the dataset and identify any quality issues within.  Take time to get to know the dataset and explore what information it contains and how this could be used to inform your business understanding."
   ]
  },
  {
   "cell_type": "markdown",
   "metadata": {},
   "source": [
    "#### Answer\n",
    "\n",
    "First step I would take is open the file in Excel to get familiar with the data prior to doing any notebook work with Pandas or Numpy. This preparation generally leads to either dropping columns that don't make sense or knowing the types of data just spot checking. In this case VIN will always be unique, so it can be dropped. In addition the size column is rarely populated so that can be dropped.\n",
    "\n",
    "After doing the spot checking/getting comfortable with the data in Excel, my first step in the notebook is to load dataset into a pandas dataframe and then get an overview of the data through a call to the head and tail function as found during my spot checking - the first several rows are misleading from a missing value perspective. Using the describe, info and isnull methods to further evaluate what is in the dataset and determine what level of data preparation will be required. Lastly, I would use the unique method to determine the unique values of each column to determine their cardinality."
   ]
  },
  {
   "cell_type": "markdown",
   "metadata": {},
   "source": [
    "### Data Preparation\n",
    "\n",
    "After our initial exploration and fine-tuning of the business understanding, it is time to construct our final dataset prior to modeling.  Here, we want to make sure to handle any integrity issues and cleaning, the engineering of new features, any transformations that we believe should happen (scaling, logarithms, normalization, etc.), and general preparation for modeling with `sklearn`. "
   ]
  },
  {
   "cell_type": "markdown",
   "metadata": {},
   "source": [
    "## Pandas Data Investigation\n",
    "The following code shows the investigation performed."
   ]
  },
  {
   "cell_type": "code",
   "execution_count": 1,
   "metadata": {},
   "outputs": [],
   "source": [
    "# Import Pandas and read in the csv into a dataframe\n",
    "import pandas as pd\n",
    "\n",
    "df = pd.read_csv('data/vehicles.csv')"
   ]
  },
  {
   "cell_type": "code",
   "execution_count": 14,
   "metadata": {},
   "outputs": [
    {
     "name": "stdout",
     "output_type": "stream",
     "text": [
      "Head\n",
      "           id                  region  price  year manufacturer model  \\\n",
      "0  7222695916                prescott   6000   NaN          NaN   NaN   \n",
      "1  7218891961            fayetteville  11900   NaN          NaN   NaN   \n",
      "2  7221797935            florida keys  21000   NaN          NaN   NaN   \n",
      "3  7222270760  worcester / central MA   1500   NaN          NaN   NaN   \n",
      "4  7210384030              greensboro   4900   NaN          NaN   NaN   \n",
      "\n",
      "  condition cylinders fuel  odometer title_status transmission  VIN drive  \\\n",
      "0       NaN       NaN  NaN       NaN          NaN          NaN  NaN   NaN   \n",
      "1       NaN       NaN  NaN       NaN          NaN          NaN  NaN   NaN   \n",
      "2       NaN       NaN  NaN       NaN          NaN          NaN  NaN   NaN   \n",
      "3       NaN       NaN  NaN       NaN          NaN          NaN  NaN   NaN   \n",
      "4       NaN       NaN  NaN       NaN          NaN          NaN  NaN   NaN   \n",
      "\n",
      "  size type paint_color state  \n",
      "0  NaN  NaN         NaN    az  \n",
      "1  NaN  NaN         NaN    ar  \n",
      "2  NaN  NaN         NaN    fl  \n",
      "3  NaN  NaN         NaN    ma  \n",
      "4  NaN  NaN         NaN    nc  \n",
      "Tail\n",
      "                id   region  price    year manufacturer  \\\n",
      "426875  7301591192  wyoming  23590  2019.0       nissan   \n",
      "426876  7301591187  wyoming  30590  2020.0        volvo   \n",
      "426877  7301591147  wyoming  34990  2020.0     cadillac   \n",
      "426878  7301591140  wyoming  28990  2018.0        lexus   \n",
      "426879  7301591129  wyoming  30590  2019.0          bmw   \n",
      "\n",
      "                           model condition    cylinders    fuel  odometer  \\\n",
      "426875         maxima s sedan 4d      good  6 cylinders     gas   32226.0   \n",
      "426876  s60 t5 momentum sedan 4d      good          NaN     gas   12029.0   \n",
      "426877          xt4 sport suv 4d      good          NaN  diesel    4174.0   \n",
      "426878           es 350 sedan 4d      good  6 cylinders     gas   30112.0   \n",
      "426879  4 series 430i gran coupe      good          NaN     gas   22716.0   \n",
      "\n",
      "       title_status transmission                VIN drive size       type  \\\n",
      "426875        clean        other  1N4AA6AV6KC367801   fwd  NaN      sedan   \n",
      "426876        clean        other  7JR102FKXLG042696   fwd  NaN      sedan   \n",
      "426877        clean        other  1GYFZFR46LF088296   NaN  NaN  hatchback   \n",
      "426878        clean        other  58ABK1GG4JU103853   fwd  NaN      sedan   \n",
      "426879        clean        other  WBA4J1C58KBM14708   rwd  NaN      coupe   \n",
      "\n",
      "       paint_color state  \n",
      "426875         NaN    wy  \n",
      "426876         red    wy  \n",
      "426877       white    wy  \n",
      "426878      silver    wy  \n",
      "426879         NaN    wy  \n"
     ]
    }
   ],
   "source": [
    "# Look at the columns from the dataframe\n",
    "print('Head')\n",
    "print(df.head())\n",
    "# Shows a lot of NaN values\n",
    "\n",
    "print('Tail')\n",
    "print(df.tail())\n",
    "\n",
    "# However, tail does not - indicating a brash decision on just the head is not logical"
   ]
  },
  {
   "cell_type": "code",
   "execution_count": 16,
   "metadata": {},
   "outputs": [
    {
     "name": "stdout",
     "output_type": "stream",
     "text": [
      "                 id         price           year      odometer\n",
      "count  4.268800e+05  4.268800e+05  425675.000000  4.224800e+05\n",
      "mean   7.311487e+09  7.519903e+04    2011.235191  9.804333e+04\n",
      "std    4.473170e+06  1.218228e+07       9.452120  2.138815e+05\n",
      "min    7.207408e+09  0.000000e+00    1900.000000  0.000000e+00\n",
      "25%    7.308143e+09  5.900000e+03    2008.000000  3.770400e+04\n",
      "50%    7.312621e+09  1.395000e+04    2013.000000  8.554800e+04\n",
      "75%    7.315254e+09  2.648575e+04    2017.000000  1.335425e+05\n",
      "max    7.317101e+09  3.736929e+09    2022.000000  1.000000e+07\n"
     ]
    }
   ],
   "source": [
    "# Inspect the variation \n",
    "\n",
    "print(df.describe())"
   ]
  },
  {
   "cell_type": "code",
   "execution_count": 18,
   "metadata": {},
   "outputs": [
    {
     "name": "stdout",
     "output_type": "stream",
     "text": [
      "<class 'pandas.core.frame.DataFrame'>\n",
      "RangeIndex: 426880 entries, 0 to 426879\n",
      "Data columns (total 18 columns):\n",
      " #   Column        Non-Null Count   Dtype  \n",
      "---  ------        --------------   -----  \n",
      " 0   id            426880 non-null  int64  \n",
      " 1   region        426880 non-null  object \n",
      " 2   price         426880 non-null  int64  \n",
      " 3   year          425675 non-null  float64\n",
      " 4   manufacturer  409234 non-null  object \n",
      " 5   model         421603 non-null  object \n",
      " 6   condition     252776 non-null  object \n",
      " 7   cylinders     249202 non-null  object \n",
      " 8   fuel          423867 non-null  object \n",
      " 9   odometer      422480 non-null  float64\n",
      " 10  title_status  418638 non-null  object \n",
      " 11  transmission  424324 non-null  object \n",
      " 12  VIN           265838 non-null  object \n",
      " 13  drive         296313 non-null  object \n",
      " 14  size          120519 non-null  object \n",
      " 15  type          334022 non-null  object \n",
      " 16  paint_color   296677 non-null  object \n",
      " 17  state         426880 non-null  object \n",
      "dtypes: float64(2), int64(2), object(14)\n",
      "memory usage: 58.6+ MB\n",
      "None\n",
      "id                   0\n",
      "region               0\n",
      "price                0\n",
      "year              1205\n",
      "manufacturer     17646\n",
      "model             5277\n",
      "condition       174104\n",
      "cylinders       177678\n",
      "fuel              3013\n",
      "odometer          4400\n",
      "title_status      8242\n",
      "transmission      2556\n",
      "VIN             161042\n",
      "drive           130567\n",
      "size            306361\n",
      "type             92858\n",
      "paint_color     130203\n",
      "state                0\n",
      "dtype: int64\n"
     ]
    }
   ],
   "source": [
    "# Identify Missing Values and get the data types of the columns\n",
    "\n",
    "print(df.info())\n",
    "print(df.isnull().sum())"
   ]
  },
  {
   "cell_type": "markdown",
   "metadata": {},
   "source": [
    "#### Analysis\n",
    "In looking at the null counts - the following columns are going to be my focus:\n",
    "region, year, manufacturer, model, fuel, odometer, title_status, transmission and state\n",
    "\n",
    "Other columns such as condition and type would be interesting to look at as well, but given larger % of nulls I would be hessistant."
   ]
  },
  {
   "cell_type": "code",
   "execution_count": 12,
   "metadata": {},
   "outputs": [
    {
     "name": "stdout",
     "output_type": "stream",
     "text": [
      "region: 404 unique values\n",
      "manufacturer: 42 unique values\n",
      "model: 29649 unique values\n",
      "condition: 6 unique values\n",
      "cylinders: 8 unique values\n",
      "fuel: 5 unique values\n",
      "title_status: 6 unique values\n",
      "transmission: 3 unique values\n",
      "VIN: 118246 unique values\n",
      "drive: 3 unique values\n",
      "size: 4 unique values\n",
      "type: 13 unique values\n",
      "paint_color: 12 unique values\n",
      "state: 51 unique values\n"
     ]
    }
   ],
   "source": [
    "# Establish the unique values for each column\n",
    "\n",
    "for col in df.select_dtypes(include=['object']).columns:\n",
    "    print(f'{col}: {df[col].nunique()} unique values')"
   ]
  },
  {
   "cell_type": "code",
   "execution_count": 3,
   "metadata": {},
   "outputs": [],
   "source": [
    "# Drop Na given the LinearRegression can't handle NaN's\n",
    "df = df.dropna() "
   ]
  },
  {
   "cell_type": "code",
   "execution_count": 55,
   "metadata": {},
   "outputs": [
    {
     "name": "stdout",
     "output_type": "stream",
     "text": [
      "region: 392 unique values\n",
      "manufacturer: 41 unique values\n",
      "model: 5139 unique values\n",
      "condition: 6 unique values\n",
      "cylinders: 8 unique values\n",
      "fuel: 5 unique values\n",
      "title_status: 6 unique values\n",
      "transmission: 3 unique values\n",
      "VIN: 21938 unique values\n",
      "drive: 3 unique values\n",
      "size: 4 unique values\n",
      "type: 13 unique values\n",
      "paint_color: 12 unique values\n",
      "state: 51 unique values\n"
     ]
    }
   ],
   "source": [
    "# Re-inspect the dataframe after some clean up\n",
    "for col in df.select_dtypes(include=['object']).columns:\n",
    "    print(f'{col}: {df[col].nunique()} unique values')"
   ]
  },
  {
   "cell_type": "code",
   "execution_count": 7,
   "metadata": {},
   "outputs": [
    {
     "data": {
      "image/png": "[encoded data removed]",
      "text/plain": [
       "<Figure size 1000x600 with 1 Axes>"
      ]
     },
     "metadata": {},
     "output_type": "display_data"
    }
   ],
   "source": [
    "# Look at the breakdown of unique years\n",
    "import matplotlib.pyplot as plt\n",
    "\n",
    "year_counts = df['year'].value_counts().sort_index()\n",
    "\n",
    "plt.figure(figsize=(10, 6))\n",
    "year_counts.plot(kind='bar')\n",
    "plt.xlabel('Year')\n",
    "plt.ylabel('Total Rows')\n",
    "plt.title('Total Rows per Year')\n",
    "plt.show()"
   ]
  },
  {
   "cell_type": "code",
   "execution_count": 9,
   "metadata": {},
   "outputs": [
    {
     "data": {
      "image/png": "[encoded data removed]",
      "text/plain": [
       "<Figure size 1000x600 with 1 Axes>"
      ]
     },
     "metadata": {},
     "output_type": "display_data"
    }
   ],
   "source": [
    "# Given the very distributed nature of the years and the irrealvance of years ago in calculating today's buyer's, \n",
    "# I'm going to filter to just the last 5 years\n",
    "\n",
    "from datetime import datetime\n",
    "\n",
    "current_year = datetime.now().year\n",
    "start_year = current_year - 5\n",
    "\n",
    "# Filter the dataframe\n",
    "df = df[df['year'] >= start_year]\n",
    "\n",
    "# Re-plot\n",
    "year_counts = df['year'].value_counts().sort_index()\n",
    "\n",
    "plt.figure(figsize=(10, 6))\n",
    "year_counts.plot(kind='bar')\n",
    "plt.xlabel('Year')\n",
    "plt.ylabel('Total Rows')\n",
    "plt.title('Total Rows per Year')\n",
    "plt.show()"
   ]
  },
  {
   "cell_type": "code",
   "execution_count": 11,
   "metadata": {},
   "outputs": [],
   "source": [
    "# Convert categorical variables\n",
    "categorical_features = ['region', 'manufacturer', 'model', 'condition', 'cylinders', 'fuel', 'title_status', 'transmission', 'drive', 'size', 'type', 'paint_color', 'state'] \n",
    "df = pd.get_dummies(df, columns=categorical_features, drop_first=True)"
   ]
  },
  {
   "cell_type": "code",
   "execution_count": 13,
   "metadata": {},
   "outputs": [],
   "source": [
    "# Perform a train and test split\n",
    "\n",
    "# After inspecting values VIN number can't help the business case, dropping that column as well as price and id\n",
    "X = df.drop(['price', 'id', 'VIN'], axis=1) \n",
    "feature_names = X.columns\n",
    "y = df['price']\n",
    "\n",
    "from sklearn.model_selection import train_test_split\n",
    "\n",
    "X_train, X_test, y_train, y_test = train_test_split(X, y, test_size=0.2, random_state=42)"
   ]
  },
  {
   "cell_type": "markdown",
   "metadata": {},
   "source": [
    "### Modeling\n",
    "\n",
    "With your (almost?) final dataset in hand, it is now time to build some models.  Here, you should build a number of different regression models with the price as the target.  In building your models, you should explore different parameters and be sure to cross-validate your findings."
   ]
  },
  {
   "cell_type": "code",
   "execution_count": 15,
   "metadata": {},
   "outputs": [
    {
     "name": "stdout",
     "output_type": "stream",
     "text": [
      "Linear - Mean Squared Error: 167038441 | Mean Absolute Error: 8599 | R2 Score: 0.6\n",
      "Ridge - Mean Squared Error: 103078128 | Mean Absolute Error: 7154 | R2 Score: 0.8\n",
      "Lasso - Mean Squared Error: 114026510 | Mean Absolute Error: 7300 | R2 Score: 0.7\n"
     ]
    }
   ],
   "source": [
    "from sklearn.linear_model import LinearRegression, Ridge, Lasso\n",
    "from joblib import Parallel, delayed\n",
    "from sklearn.metrics import mean_squared_error, mean_absolute_error, r2_score\n",
    "from sklearn.pipeline import Pipeline\n",
    "\n",
    "# Use Linear, Ridge and Lasso Regressors\n",
    "models = {\n",
    "    \"Linear\": Pipeline(steps=[('regressor', LinearRegression())]),\n",
    "    \"Ridge\": Pipeline(steps=[('regressor', Ridge())]),\n",
    "    \"Lasso\": Pipeline(steps=[('regressor', Lasso())])\n",
    "}\n",
    "\n",
    "# Fit, Predict and calculate the MAE, MSE and R2 to evaluate the model performance\n",
    "for model_name, model in models.items():\n",
    "    model.fit(X_train, y_train)\n",
    "    y_pred = model.predict(X_test)\n",
    "\n",
    "    mae = mean_absolute_error(y_test, y_pred)\n",
    "    mse = mean_squared_error(y_test, y_pred)\n",
    "    r2 = r2_score(y_test, y_pred)\n",
    "\n",
    "    print(f'{model_name} - Mean Squared Error: {mse:.0f} | Mean Absolute Error: {mae:.0f} | R2 Score: {r2:.1f}')"
   ]
  },
  {
   "cell_type": "markdown",
   "metadata": {},
   "source": [
    "### Evaluation\n",
    "\n",
    "With some modeling accomplished, we aim to reflect on what we identify as a high-quality model and what we are able to learn from this.  We should review our business objective and explore how well we can provide meaningful insight into drivers of used car prices.  Your goal now is to distill your findings and determine whether the earlier phases need revisitation and adjustment or if you have information of value to bring back to your client."
   ]
  },
  {
   "cell_type": "markdown",
   "metadata": {},
   "source": [
    "#### Answer\n",
    "Looking at the findings, Ridge has the lowest MSE, lowest MAE and highest R2 Score so that will be the model I'll use going forward"
   ]
  },
  {
   "cell_type": "markdown",
   "metadata": {},
   "source": [
    "### Deployment\n",
    "\n",
    "Now that we've settled on our models and findings, it is time to deliver the information to the client.  You should organize your work as a basic report that details your primary findings.  Keep in mind that your audience is a group of used car dealers interested in fine-tuning their inventory."
   ]
  },
  {
   "cell_type": "code",
   "execution_count": 17,
   "metadata": {},
   "outputs": [
    {
     "name": "stdout",
     "output_type": "stream",
     "text": [
      "                     Feature  Importance    StdDev\n",
      "847    cylinders_8 cylinders    0.182757  0.017695\n",
      "846    cylinders_6 cylinders    0.144302  0.012362\n",
      "850                 fuel_gas    0.074567  0.009445\n",
      "919                 state_ok    0.061765  0.007606\n",
      "97    region_humboldt county    0.049013  0.008107\n",
      "..                       ...         ...       ...\n",
      "874         paint_color_blue   -0.001218  0.002495\n",
      "709      model_sierra 3500hd   -0.001548  0.000410\n",
      "49   region_corvallis/albany   -0.001676  0.001075\n",
      "915                 state_nm   -0.001796  0.000562\n",
      "837              model_yukon   -0.003533  0.001622\n",
      "\n",
      "[934 rows x 3 columns]\n"
     ]
    }
   ],
   "source": [
    "# Take the Ridge model and get the permutation importance to help answer the original problem statement's question\n",
    "from sklearn.inspection import permutation_importance\n",
    "\n",
    "# Compute permutation importance\n",
    "result = permutation_importance(models[\"Ridge\"], X_test, y_test, n_repeats=10, random_state=42, n_jobs=-1) \n",
    "\n",
    "# Print permutation importance with feature names \n",
    "perm_importance = pd.DataFrame({ 'Feature': feature_names, 'Importance': result.importances_mean, 'StdDev': result.importances_std }).sort_values(by='Importance', ascending=False) \n",
    "\n",
    "# Display the results \n",
    "print(perm_importance)"
   ]
  },
  {
   "cell_type": "markdown",
   "metadata": {},
   "source": [
    "#### Technical Analysis\n",
    "Using the Ridge model the feature importance indicates that the top 3 drivers of price are Gas powered V6 and V8 vehicles."
   ]
  },
  {
   "cell_type": "markdown",
   "metadata": {},
   "source": [
    "#### External Analysis\n",
    "Answering the question of what drives the price of vehicles given the analysis performed over the last 5 years of data the main two drivers are \n",
    "gas powered V6 and V8 vehicles. Therefore having cars with those engines will provide the biggest impact of pricing."
   ]
  }
 ],
 "metadata": {
  "kernelspec": {
   "display_name": "Python 3 (ipykernel)",
   "language": "python",
   "name": "python3"
  },
  "language_info": {
   "codemirror_mode": {
    "name": "ipython",
    "version": 3
   },
   "file_extension": ".py",
   "mimetype": "text/x-python",
   "name": "python",
   "nbconvert_exporter": "python",
   "pygments_lexer": "ipython3",
   "version": "3.12.4"
  },
  "widgets": {
   "application/vnd.jupyter.widget-state+json": {
    "state": {},
    "version_major": 2,
    "version_minor": 0
   }
  }
 },
 "nbformat": 4,
 "nbformat_minor": 4
}
